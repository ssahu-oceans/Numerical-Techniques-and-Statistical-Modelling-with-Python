{
 "cells": [
  {
   "cell_type": "markdown",
   "metadata": {},
   "source": [
    "# ##Topics##\n",
    "\n",
    "### [1](#Part-1)  Indenting and block structuring      \n",
    "\n",
    "### [2](#Part-2)  Differentiating comments  \n",
    "\n",
    "### [3](#Part-3) Assigning variables   \n",
    "\n",
    "### [4](#Part-4) Evaluating expressions              \n",
    "\n",
    "### [5](#Part-5) Using common data types \n",
    "\n",
    "### [6](#Part-6) Getting user input       \n",
    "\n",
    "### [7](#Part-7) Using correct Pythonic style\n",
    "\n"
   ]
  },
  {
   "cell_type": "markdown",
   "metadata": {},
   "source": [
    "## [1](#Part-1) Indenting and block structuring "
   ]
  },
  {
   "cell_type": "markdown",
   "metadata": {},
   "source": [
    "Python differs from most other programming languages because it uses whitespace and indentation to determine block structure (that is, to determine what constitutes the body of a loop, the else clause of a conditional, and so on)"
   ]
  },
  {
   "cell_type": "markdown",
   "metadata": {},
   "source": [
    "##### TASK 1: Identify the block structure and idents and from our last lecture make this code work"
   ]
  },
  {
   "cell_type": "code",
   "execution_count": null,
   "metadata": {
    "collapsed": false
   },
   "outputs": [],
   "source": [
    "n = int(input(\"Enter the value of n: \"))\n",
    "r = int(input(\"Enter the value of r: \"))\n",
    "while n > 0: \n",
    "    r = r * n           \n",
    "    n = n - 1\n",
    "    print('r = {x}, n = {y}'.format(x = r, y = n))"
   ]
  },
  {
   "cell_type": "markdown",
   "metadata": {},
   "source": [
    "### [2](#Part-2)  Differentiating comments "
   ]
  },
  {
   "cell_type": "markdown",
   "metadata": {},
   "source": [
    "Anything following a # symbol in a Python file is a comment and is disregarded by the language. The obvious exception is a # in a string, which is just a character of that string."
   ]
  },
  {
   "cell_type": "code",
   "execution_count": null,
   "metadata": {
    "collapsed": false
   },
   "outputs": [],
   "source": [
    "# Assign 5 to x\n",
    "x0 = 5\n",
    "x = 3                    # Now x is 3\n",
    "print('x= {}, y = {}'.format(x, x0))\n",
    "x = \"# This is not a comment\"\n",
    "print(x)"
   ]
  },
  {
   "cell_type": "code",
   "execution_count": null,
   "metadata": {
    "collapsed": false
   },
   "outputs": [],
   "source": [
    "x.type("
   ]
  },
  {
   "cell_type": "markdown",
   "metadata": {},
   "source": [
    "## [3](#Part-3) Assigning variables "
   ]
  },
  {
   "cell_type": "markdown",
   "metadata": {},
   "source": [
    "In Python variables aren’t buckets. Instead, they’re labels or tags that refer to objects in the Python interpreter’s namespace. Any number of labels (or variables) can refer to the same object, and when that object changes, the value referred to by all of those variables also changes."
   ]
  },
  {
   "cell_type": "code",
   "execution_count": null,
   "metadata": {
    "collapsed": false
   },
   "outputs": [],
   "source": [
    "a = [1, 2, 3, 4]  #Question1 : What do we call this thing with [*****]\n",
    "\n",
    "b = a\n",
    "\n",
    "c = b\n",
    "\n",
    "b[1] = 5     #Question2: What did I just do ?\n",
    "\n",
    "\n",
    "print(a, b, c)  #Uncomment this line but first guess what a, b and c will be\n"
   ]
  },
  {
   "cell_type": "code",
   "execution_count": null,
   "metadata": {
    "collapsed": false
   },
   "outputs": [],
   "source": [
    "a = [1, 2, 3, 4]  #Question1 : What do we call this thing with [*****]\n",
    "\n",
    "b = a\n",
    "\n",
    "c[2] = b[3]\n",
    "\n",
    "b[1] = 5     #Question2: What did I just do ?\n",
    "\n",
    "\n",
    "print(a, b, c)  #Uncomment this line but first guess what a, b and c will be"
   ]
  },
  {
   "cell_type": "code",
   "execution_count": null,
   "metadata": {
    "collapsed": false
   },
   "outputs": [],
   "source": [
    "a = 1\n",
    "\n",
    "b = a\n",
    "\n",
    "c = b\n",
    "\n",
    "b = 5\n",
    "\n",
    "print(a, b, c)  #Uncomment this line but first make a guess what this will return"
   ]
  },
  {
   "cell_type": "markdown",
   "metadata": {},
   "source": [
    "Python variables can be set to any object, whereas in C and many other languages, variables can store only the type of value they’re declared as. The following is perfectly legal Python code:"
   ]
  },
  {
   "cell_type": "code",
   "execution_count": null,
   "metadata": {
    "collapsed": false
   },
   "outputs": [],
   "source": [
    "x = \"Hello World\"\n",
    "\n",
    "print(x)\n",
    "\n",
    "x = 5\n",
    "\n",
    "# print(x)  #Uncomment this line but first make a guess what this will return"
   ]
  },
  {
   "cell_type": "markdown",
   "metadata": {},
   "source": [
    "A new assignment overrides any previous assignments. The del statement deletes the variable. Trying to print the variable’s contents after deleting it results in an error, as though the variable had never been created in the first place:"
   ]
  },
  {
   "cell_type": "code",
   "execution_count": null,
   "metadata": {
    "collapsed": false
   },
   "outputs": [],
   "source": [
    "x = 5\n",
    "\n",
    "print(x)\n",
    "\n",
    "gdel x\n",
    "\n",
    "print(x) #Uncomment this line but first make a guess what this will return"
   ]
  },
  {
   "cell_type": "markdown",
   "metadata": {},
   "source": [
    "## [4](#Part-4) Evaluating expressions "
   ]
  },
  {
   "cell_type": "markdown",
   "metadata": {},
   "source": [
    "Python supports arithmetic and similar expressions; these expressions will be familiar to most readers. The following code calculates the average of 300 and 500, leaving the result in the variable z:"
   ]
  },
  {
   "cell_type": "code",
   "execution_count": null,
   "metadata": {
    "collapsed": false
   },
   "outputs": [],
   "source": [
    "x = 300\n",
    "y = 500\n",
    "z = (x + y) / 2\n",
    "\n",
    "print(z)"
   ]
  },
  {
   "cell_type": "markdown",
   "metadata": {},
   "source": [
    "We have already seen a few of these while workign with the IDE in our last class and this is pretty intuitive and so we don't need to dwell on this much longer."
   ]
  },
  {
   "cell_type": "markdown",
   "metadata": {},
   "source": [
    "## [5.1](#Part-5) Strings"
   ]
  },
  {
   "cell_type": "code",
   "execution_count": null,
   "metadata": {
    "collapsed": false
   },
   "outputs": [],
   "source": [
    "# This line leaves the string \"Hello, World\" in the variable x. \n",
    "# We can use both single quotes and double quotes to represent a string\n",
    "\n",
    "\n",
    "x = \"Hello, World\"\n",
    "\n",
    "print(x)"
   ]
  },
  {
   "cell_type": "markdown",
   "metadata": {},
   "source": [
    "Backslashes can be used to escape characters, to give them special meanings. \\n means the newline character, \\t means the tab character, \\\\ means a single normal backslash character, and \\\" is a plain double-quote character. It doesn’t end the string:"
   ]
  },
  {
   "cell_type": "code",
   "execution_count": null,
   "metadata": {
    "collapsed": false
   },
   "outputs": [],
   "source": [
    "x = \"\\tThis string starts with a \\\"tab\\\".\"\n",
    "\n",
    "print(x)\n",
    "\n",
    "print(x[3]) #Uncomment this line but first make a guess what this will return"
   ]
  },
  {
   "cell_type": "code",
   "execution_count": null,
   "metadata": {
    "collapsed": false
   },
   "outputs": [],
   "source": [
    "x = \"This string contains a single backslash(\\\\).\"\n",
    "\n",
    "print(x)\n",
    "\n",
    "x[-3]  #Uncomment this line but first make a guess what this returns.\n",
    "\n",
    "print(x[-3]) #Uncomment this line but first make a guess what this returns."
   ]
  },
  {
   "cell_type": "markdown",
   "metadata": {},
   "source": [
    "You can’t split a normal string across lines. This code won’t work:"
   ]
  },
  {
   "cell_type": "code",
   "execution_count": null,
   "metadata": {
    "collapsed": false
   },
   "outputs": [],
   "source": [
    "x = \"This is a misguided attempt to\\\n",
    "put a newline into a string without using backslash-n\""
   ]
  },
  {
   "cell_type": "markdown",
   "metadata": {},
   "source": [
    "But Python offers triple-quoted strings, which let you do this and include single and double quotes without backslashes"
   ]
  },
  {
   "cell_type": "markdown",
   "metadata": {},
   "source": [
    "Task: Try fixing the previous block of code and take a guess why we need this and when we use this"
   ]
  },
  {
   "cell_type": "markdown",
   "metadata": {},
   "source": [
    "## [5.2](#Part-5) Numbers"
   ]
  },
  {
   "cell_type": "markdown",
   "metadata": {},
   "source": [
    "Python offers four kinds of numbers: integers, floats, complex numbers, and Booleans. An integer constant is written as an integer—0, –11, +33 and has unlimited range, restricted only by the resources of your machine. A float can be written with a decimal point or in scientific notation: 3.14, –2E-8, 2.718281828. Booleans are either True or False and behave identically to 1 and 0 except for their string representations."
   ]
  },
  {
   "cell_type": "markdown",
   "metadata": {},
   "source": [
    "Operations involving two integers produce an integer, except for division (/), which results in a float. If the // division symbol is used, the result is an integer, with truncation. Operations involving a float always produce a float."
   ]
  },
  {
   "cell_type": "code",
   "execution_count": null,
   "metadata": {
    "collapsed": true
   },
   "outputs": [],
   "source": [
    "5 + 2 - 3 * 2"
   ]
  },
  {
   "cell_type": "code",
   "execution_count": null,
   "metadata": {
    "collapsed": true
   },
   "outputs": [],
   "source": [
    "5 / 2          # floating-point result with normal division"
   ]
  },
  {
   "cell_type": "code",
   "execution_count": null,
   "metadata": {
    "collapsed": true
   },
   "outputs": [],
   "source": [
    "5 / 2.0        # also a floating-point result"
   ]
  },
  {
   "cell_type": "code",
   "execution_count": null,
   "metadata": {
    "collapsed": true
   },
   "outputs": [],
   "source": [
    "5 // 2         # integer result with truncation when divided using '//'"
   ]
  },
  {
   "cell_type": "code",
   "execution_count": null,
   "metadata": {
    "collapsed": true
   },
   "outputs": [],
   "source": [
    "30000000000    # This would be too large to be an int in many languages"
   ]
  },
  {
   "cell_type": "code",
   "execution_count": null,
   "metadata": {
    "collapsed": true
   },
   "outputs": [],
   "source": [
    "30000000000 * 3"
   ]
  },
  {
   "cell_type": "code",
   "execution_count": null,
   "metadata": {
    "collapsed": true
   },
   "outputs": [],
   "source": [
    "30000000000 * 3.0"
   ]
  },
  {
   "cell_type": "code",
   "execution_count": null,
   "metadata": {
    "collapsed": true
   },
   "outputs": [],
   "source": [
    "2.0e-8         # Scientific notation gives back a float"
   ]
  },
  {
   "cell_type": "code",
   "execution_count": null,
   "metadata": {
    "collapsed": true
   },
   "outputs": [],
   "source": [
    "3000000 * 3000000"
   ]
  },
  {
   "cell_type": "code",
   "execution_count": null,
   "metadata": {
    "collapsed": true
   },
   "outputs": [],
   "source": [
    "int(200.2)          "
   ]
  },
  {
   "cell_type": "code",
   "execution_count": null,
   "metadata": {
    "collapsed": true
   },
   "outputs": [],
   "source": [
    "int(2e2)            "
   ]
  },
  {
   "cell_type": "code",
   "execution_count": null,
   "metadata": {
    "collapsed": true
   },
   "outputs": [],
   "source": [
    "float(200) "
   ]
  },
  {
   "cell_type": "markdown",
   "metadata": {},
   "source": [
    "These built in functions come with python related to numeric operations"
   ]
  },
  {
   "cell_type": "markdown",
   "metadata": {},
   "source": [
    "abs, divmod, float, hex, int, max, min, oct,\n",
    "pow, round"
   ]
  },
  {
   "cell_type": "markdown",
   "metadata": {},
   "source": [
    "Task: Try using min, max functions"
   ]
  },
  {
   "cell_type": "code",
   "execution_count": null,
   "metadata": {
    "collapsed": false
   },
   "outputs": [],
   "source": [
    "e=10.000000000000001\n",
    "min(e,11)"
   ]
  },
  {
   "cell_type": "markdown",
   "metadata": {},
   "source": [
    "More advanced numeric functions such as the trig and hyperbolic trig functions, as well as a few useful constants, aren’t built into Python but are provided in a standard module called math. \n",
    "\n",
    "Math module functions include: \n",
    "\n",
    "acos, asin, atan, atan2, ceil, cos, cosh, e, exp, fabs, floor, fmod,\n",
    "frexp, hypot, ldexp, log, log10, mod, pi, pow, sin, sinh, sqrt, tan,\n",
    "tanh"
   ]
  },
  {
   "cell_type": "markdown",
   "metadata": {},
   "source": [
    "We can import them specifically or all of them at once"
   ]
  },
  {
   "cell_type": "markdown",
   "metadata": {},
   "source": [
    "During our last class we imported numpy\n",
    "\n",
    "Task 1: First try to import atan from math\n",
    "    \n",
    "Task 2: Import all the functions from math\n",
    "    \n"
   ]
  },
  {
   "cell_type": "code",
   "execution_count": null,
   "metadata": {
    "collapsed": false
   },
   "outputs": [],
   "source": [
    "from math import atan\n",
    "print(atan(0))\n",
    "\n",
    "from math import *\n",
    "print(2*pi)\n",
    "\n",
    "import math\n",
    "print(pi)\n",
    "\n",
    "print(\"What's the difference between 'from __ import __' \\\n",
    "and 'import ___' ?)\")\n",
    "\n"
   ]
  },
  {
   "cell_type": "code",
   "execution_count": null,
   "metadata": {
    "collapsed": true
   },
   "outputs": [],
   "source": [
    "import math\n",
    "print(x=atan(0))"
   ]
  },
  {
   "cell_type": "markdown",
   "metadata": {},
   "source": [
    "Complex numbers are created automatically whenever an expression of the form nj is encountered, with n having the same form as a Python integer or float. j is, of course, standard notation for the imaginary number equal to the square root of –1"
   ]
  },
  {
   "cell_type": "code",
   "execution_count": null,
   "metadata": {
    "collapsed": false
   },
   "outputs": [],
   "source": [
    "(3+2j)"
   ]
  },
  {
   "cell_type": "markdown",
   "metadata": {},
   "source": [
    "Python expresses the resulting complex number in parentheses as a way of indicating that what’s printed to the screen represents the value of a single object:"
   ]
  },
  {
   "cell_type": "code",
   "execution_count": null,
   "metadata": {
    "collapsed": true
   },
   "outputs": [],
   "source": [
    "3 + 2j - (4+4j)"
   ]
  },
  {
   "cell_type": "code",
   "execution_count": null,
   "metadata": {
    "collapsed": true
   },
   "outputs": [],
   "source": [
    "(1+2j) * (3+4j)"
   ]
  },
  {
   "cell_type": "code",
   "execution_count": null,
   "metadata": {
    "collapsed": false
   },
   "outputs": [],
   "source": [
    "z = (3+5j)\n",
    "\n",
    "print(z.real)\n",
    "\n",
    "print(z.imag)\n",
    "\n"
   ]
  },
  {
   "cell_type": "code",
   "execution_count": null,
   "metadata": {
    "collapsed": false
   },
   "outputs": [],
   "source": [
    "sqrt(-1)"
   ]
  },
  {
   "cell_type": "markdown",
   "metadata": {},
   "source": [
    "The functions in the math module don’t apply to complex numbers; the rationale is that most users want the square root of –1 to generate an error, not an answer! Instead, similar functions, which can operate on complex numbers, are provided in the cmath module"
   ]
  },
  {
   "cell_type": "code",
   "execution_count": null,
   "metadata": {
    "collapsed": false
   },
   "outputs": [],
   "source": [
    "import cmath\n",
    "\n",
    "cmath.sqrt(-1)"
   ]
  },
  {
   "cell_type": "markdown",
   "metadata": {},
   "source": [
    "In addition to standard types such as strings and numbers, Python has a special basic data type that defines a single special data object called None. As the name suggests, None is used to represent an empty value. It appears in various guises throughout Python. For example, a procedure in Python is just a function that doesn’t explicitly return a value, which means that by default, it returns None."
   ]
  },
  {
   "cell_type": "markdown",
   "metadata": {},
   "source": [
    "Let us test some excellent use of both None type object as well as some Boolean and how the syntax works. This will come super super handy when we learn conditional statements later"
   ]
  },
  {
   "cell_type": "code",
   "execution_count": null,
   "metadata": {
    "collapsed": false
   },
   "outputs": [],
   "source": [
    "a = 5\n",
    "\n",
    "a is not None"
   ]
  },
  {
   "cell_type": "markdown",
   "metadata": {},
   "source": [
    "### Exercise: Growing Strength\n",
    "\n",
    "\n",
    "a) Make a variable called strength, and ask for user input.\n",
    "\n",
    "b) Print a message reporting the player's strength.\n",
    "\n",
    "c) Set up a while loop that runs until the player's strength increases to a value such as 10.\n",
    "\n",
    "d) Inside the while loop, print a message that reports the player's current strength.\n",
    "\n",
    "e) Inside the while loop, write a statement that increases the player's strength.\n",
    "\n",
    "f) Outside the while loop, print a message reporting that the player has grown too strong, and that they have moved up to a new level of the game.\n",
    "\n",
    "g) Play around with different cutoff levels for the value of strength, and play around with different ways to increase the strength value within the while loop."
   ]
  },
  {
   "cell_type": "code",
   "execution_count": null,
   "metadata": {
    "collapsed": false
   },
   "outputs": [],
   "source": [
    "strength = int(input(\"Enter value for strength: \"))\n",
    "print('Players strength = {}'.format(strength))\n",
    "while strength < 100:\n",
    "    #print('Previous Strength = {}'.format(strength))\n",
    "    #strength = strength + 1\n",
    "    #strength *= 2\n",
    "    strength += strength\n",
    "    print('New Strength = {}'.format(strength))\n",
    "print('Players too strong, new level reached, strength = {}'.format(strength))"
   ]
  },
  {
   "cell_type": "code",
   "execution_count": null,
   "metadata": {
    "collapsed": true
   },
   "outputs": [],
   "source": []
  }
 ],
 "metadata": {
  "kernelspec": {
   "display_name": "Python 3",
   "language": "python",
   "name": "python3"
  },
  "language_info": {
   "codemirror_mode": {
    "name": "ipython",
    "version": 3
   },
   "file_extension": ".py",
   "mimetype": "text/x-python",
   "name": "python",
   "nbconvert_exporter": "python",
   "pygments_lexer": "ipython3",
   "version": "3.5.4"
  }
 },
 "nbformat": 4,
 "nbformat_minor": 2
}
