{
 "cells": [
  {
   "cell_type": "markdown",
   "metadata": {},
   "source": [
    "# ##Topics##\n",
    "\n",
    "### [1](#Part-1)  Boolean Data Type\n",
    "        1.a Integers and Floats as Booleans\n",
    "        1.b Boolean Arithmetic\n",
    "\n",
    "\n",
    "### [2](#Part-2)  Boolean Operators\n",
    "\n",
    "\n",
    "\n",
    "### [3](#Part-3) Conditional execution\n"
   ]
  },
  {
   "cell_type": "markdown",
   "metadata": {},
   "source": [
    "#### [1](#Part-1) Boolean Data Type\n",
    "\n",
    "The boolean data type is either True or False. In Python, boolean variables are defined by the True and False keywords."
   ]
  },
  {
   "cell_type": "code",
   "execution_count": null,
   "metadata": {
    "collapsed": false
   },
   "outputs": [],
   "source": [
    "a = True\n",
    "type(a)"
   ]
  },
  {
   "cell_type": "code",
   "execution_count": null,
   "metadata": {
    "collapsed": false
   },
   "outputs": [],
   "source": [
    "b = False\n",
    "type(b)"
   ]
  },
  {
   "cell_type": "markdown",
   "metadata": {},
   "source": [
    "##### As we previously saw"
   ]
  },
  {
   "cell_type": "code",
   "execution_count": null,
   "metadata": {
    "collapsed": false
   },
   "outputs": [],
   "source": [
    "type(3.4)"
   ]
  },
  {
   "cell_type": "markdown",
   "metadata": {},
   "source": [
    "##### and"
   ]
  },
  {
   "cell_type": "code",
   "execution_count": null,
   "metadata": {
    "collapsed": false
   },
   "outputs": [],
   "source": [
    "type('3.4')"
   ]
  },
  {
   "cell_type": "markdown",
   "metadata": {},
   "source": [
    "#### or say "
   ]
  },
  {
   "cell_type": "code",
   "execution_count": null,
   "metadata": {
    "collapsed": false
   },
   "outputs": [],
   "source": [
    "type('Jordan')"
   ]
  },
  {
   "cell_type": "markdown",
   "metadata": {},
   "source": [
    "#### 1.a Integers and Floats as Booleans\n",
    "\n",
    "Integers and floating point numbers can be converted to the boolean data type using Python's bool() function. An variable set to zero returns False. A variable set to any other number, positive or negative, returns True."
   ]
  },
  {
   "cell_type": "code",
   "execution_count": null,
   "metadata": {
    "collapsed": false
   },
   "outputs": [],
   "source": [
    "var = 0\n",
    "bool(var)"
   ]
  },
  {
   "cell_type": "code",
   "execution_count": null,
   "metadata": {
    "collapsed": false
   },
   "outputs": [],
   "source": [
    "pos_int = 1\n",
    "bool(pos_int)"
   ]
  },
  {
   "cell_type": "code",
   "execution_count": null,
   "metadata": {
    "collapsed": false
   },
   "outputs": [],
   "source": [
    "neg_flt = -5.1\n",
    "bool(neg_flt)"
   ]
  },
  {
   "cell_type": "markdown",
   "metadata": {},
   "source": [
    "#### 1.b Boolean Arithmetic\n",
    "\n",
    "Boolean arithmetic is the arithmetic of true and false logic. A boolean or logical value can either be True or False. Boolean values can be manipulated and combined with boolean operators. Boolean operators in Python include and, or, and not.\n",
    "\n",
    "The common boolean operators in Python are below:\n",
    "\n",
    "###### or\n",
    "\n",
    "###### and\n",
    "\n",
    "###### not\n",
    "\n",
    "###### == (equivalent)\n",
    "\n",
    "###### != (not equivalent)\n",
    "\n",
    "In the code section below, two variables are assigned the boolean values True and False. Then these boolean values are combined and manipulated with boolean operators."
   ]
  },
  {
   "cell_type": "code",
   "execution_count": null,
   "metadata": {
    "collapsed": true
   },
   "outputs": [],
   "source": [
    "A = True\n",
    "B = False\n",
    "C = False"
   ]
  },
  {
   "cell_type": "code",
   "execution_count": null,
   "metadata": {
    "collapsed": false
   },
   "outputs": [],
   "source": [
    "A or B"
   ]
  },
  {
   "cell_type": "code",
   "execution_count": null,
   "metadata": {
    "collapsed": false
   },
   "outputs": [],
   "source": [
    "A and B"
   ]
  },
  {
   "cell_type": "code",
   "execution_count": null,
   "metadata": {
    "collapsed": false
   },
   "outputs": [],
   "source": [
    "not A"
   ]
  },
  {
   "cell_type": "code",
   "execution_count": null,
   "metadata": {
    "collapsed": false
   },
   "outputs": [],
   "source": [
    "not B"
   ]
  },
  {
   "cell_type": "code",
   "execution_count": null,
   "metadata": {
    "collapsed": false
   },
   "outputs": [],
   "source": [
    "A == B"
   ]
  },
  {
   "cell_type": "code",
   "execution_count": null,
   "metadata": {
    "collapsed": false
   },
   "outputs": [],
   "source": [
    "A != B"
   ]
  },
  {
   "cell_type": "code",
   "execution_count": null,
   "metadata": {
    "collapsed": false
   },
   "outputs": [],
   "source": [
    "A or (C and B)"
   ]
  },
  {
   "cell_type": "code",
   "execution_count": null,
   "metadata": {
    "collapsed": false
   },
   "outputs": [],
   "source": [
    "(A and B) or C"
   ]
  },
  {
   "cell_type": "markdown",
   "metadata": {},
   "source": [
    "#### Practise Problem: You need to figure out what this piece of code does:"
   ]
  },
  {
   "cell_type": "code",
   "execution_count": null,
   "metadata": {
    "collapsed": false
   },
   "outputs": [],
   "source": [
    "young = True\n",
    "famous = True\n",
    "\n",
    "if (young and famous) is True: # if x && y == 1\n",
    "    print('You must be rich!')\n",
    "else:\n",
    "    print('There is always the lottery...')"
   ]
  },
  {
   "cell_type": "markdown",
   "metadata": {},
   "source": [
    "#### [3](#Part-3) Conditional execution"
   ]
  },
  {
   "cell_type": "code",
   "execution_count": null,
   "metadata": {
    "collapsed": false
   },
   "outputs": [],
   "source": [
    "x = float(input(\"Enter a number: \"))\n",
    "\n",
    "\n",
    "if isinstance(x,int):\n",
    "    print('Type an integer')\n",
    "    x = float(input(\"Enter a number: \"))\n",
    "else:\n",
    "    if x % 2 == 0:\n",
    "        print(x, \" is even.\")\n",
    "    else:\n",
    "        print(x, \" is odd.\")\n"
   ]
  },
  {
   "cell_type": "markdown",
   "metadata": {},
   "source": [
    "#### Practise: Improve this previous piece of code to include scope for only integers and print asking the user to enter an integer if the entered number is not an integer\n",
    "\n",
    "Hint: We will need something like \n",
    "\n",
    "######  isinstance(x, int) or isintance(x, float)"
   ]
  },
  {
   "cell_type": "code",
   "execution_count": null,
   "metadata": {
    "collapsed": false
   },
   "outputs": [],
   "source": [
    "x = float(input(\"Enter a number: \"))\n",
    "\n",
    "if not isinstance(x,int):\n",
    "    print('Type an intger')"
   ]
  },
  {
   "cell_type": "markdown",
   "metadata": {},
   "source": [
    "The Boolean expression after the if statement is called the condition. If it is true, then all the indented statements get executed. If not, then all the statements indented under the else clause get executed.\n",
    "\n",
    "<img src=\"images_chapter_1/if_else.png\">"
   ]
  },
  {
   "cell_type": "markdown",
   "metadata": {},
   "source": [
    "Syntax for an if statement looks like:"
   ]
  },
  {
   "cell_type": "raw",
   "metadata": {},
   "source": [
    "if BOOLEAN EXPRESSION:\n",
    "    STATEMENTS_1        # Executed if condition evaluates to True\n",
    "else:\n",
    "    STATEMENTS_2        # Executed if condition evaluates to False"
   ]
  },
  {
   "cell_type": "markdown",
   "metadata": {},
   "source": [
    "#### Omitting the else clause\n",
    "\n",
    "<img src=\"images_chapter_1/no_else.png\">"
   ]
  },
  {
   "cell_type": "markdown",
   "metadata": {},
   "source": [
    "#### Chained conditionals\n",
    "\n",
    "<img src=\"images_chapter_1/chained.png\">"
   ]
  },
  {
   "cell_type": "raw",
   "metadata": {},
   "source": [
    "if x < y:\n",
    "    STATEMENTS_A\n",
    "elif x > y:\n",
    "    STATEMENTS_B\n",
    "else:\n",
    "    STATEMENTS_C"
   ]
  },
  {
   "cell_type": "markdown",
   "metadata": {},
   "source": [
    "#### Nested conditionals\n",
    "\n",
    "<img src=\"images_chapter_1/chained.png\">"
   ]
  },
  {
   "cell_type": "raw",
   "metadata": {},
   "source": [
    "if x < y:\n",
    "    STATEMENTS_A\n",
    "else:\n",
    "    if x > y:\n",
    "        STATEMENTS_B\n",
    "    else:\n",
    "        STATEMENTS_C"
   ]
  },
  {
   "cell_type": "markdown",
   "metadata": {},
   "source": [
    "Practise Problems:\n",
    "\n",
    "1. Write a Boolean expression that tests if the value stored in the variable num1 is equal to the value stored in the variable num2.\n",
    "\n",
    "2.  Write the code for an if statement that adds 5 to the variable num1 if the value stored in the variable testA equals 25. Otherwise subtract 5 from num1.\n",
    " \n",
    "3.  Write a Python program that prompts the user for a word. If the word comes between the words apple and pear alphabetically, print a message that tells the user that the word is valid, otherwise, tell the user the word is out or range.\n",
    " \n",
    "4.  Write a Python program that prompts the user for a multiple of 5 between 1 and 100.  Print a message telling the user whether the number they entered is valid."
   ]
  },
  {
   "cell_type": "code",
   "execution_count": null,
   "metadata": {
    "collapsed": true
   },
   "outputs": [],
   "source": [
    "num1 = float(input(\"Type in first number: \"))\n",
    "num2 = float(input(\"Type in second number: \"))\n",
    "print(bool(num1==num2))"
   ]
  },
  {
   "cell_type": "code",
   "execution_count": null,
   "metadata": {
    "collapsed": true
   },
   "outputs": [],
   "source": [
    "num1 = 0\n",
    "testA = float(input('Enter a number: '))\n",
    "\n",
    "if testA == 25:\n",
    "    num1 += 5\n",
    "    \n",
    "else:\n",
    "    num1 -= 5\n",
    "    \n",
    "print(num1)"
   ]
  },
  {
   "cell_type": "code",
   "execution_count": null,
   "metadata": {
    "collapsed": false
   },
   "outputs": [],
   "source": [
    "a = 'apple'\n",
    "p = 'pear'\n",
    "wtest = str(input(\"Type a word: \"))\n",
    "if (wtest[0] > (a[0])) and (wtest[0] < p[0]) is True:\n",
    "    print('Valid choice')\n",
    "else:\n",
    "    print('The word is out of range')"
   ]
  },
  {
   "cell_type": "code",
   "execution_count": null,
   "metadata": {
    "collapsed": false
   },
   "outputs": [],
   "source": [
    "num1 = float(input('Type a multiple of 5 between 1 and 100: '))\n",
    "\n",
    "if (num1 < 1) or (num1 >100) is True:\n",
    "    print('Incorrect input range')\n",
    "                 \n",
    "else: \n",
    "    if (num1 % 5) == 0 :\n",
    "        print('Choice is valid')\n",
    "\n",
    "    else: \n",
    "        print('Pick again')\n"
   ]
  },
  {
   "cell_type": "code",
   "execution_count": null,
   "metadata": {
    "collapsed": false
   },
   "outputs": [],
   "source": [
    "not_valid = 1\n",
    "\n",
    "    "
   ]
  },
  {
   "cell_type": "code",
   "execution_count": null,
   "metadata": {
    "collapsed": false
   },
   "outputs": [],
   "source": [
    "if (num1 < 1) or (num1 >100) is True:\n",
    "    print('Incorrect input range')\n",
    "    num_try = float(input('Try again: '))    \n",
    "    \n",
    "else: \n",
    "    \n",
    "        #input('Pick again: '))\n",
    "        #if num1 (num1 < 1) or (num1 >100) is False:\n",
    "            #not_valid  = 0"
   ]
  },
  {
   "cell_type": "code",
   "execution_count": null,
   "metadata": {
    "collapsed": true
   },
   "outputs": [],
   "source": []
  }
 ],
 "metadata": {
  "kernelspec": {
   "display_name": "Python 3",
   "language": "python",
   "name": "python3"
  },
  "language_info": {
   "codemirror_mode": {
    "name": "ipython",
    "version": 3
   },
   "file_extension": ".py",
   "mimetype": "text/x-python",
   "name": "python",
   "nbconvert_exporter": "python",
   "pygments_lexer": "ipython3",
   "version": "3.5.4"
  }
 },
 "nbformat": 4,
 "nbformat_minor": 2
}
